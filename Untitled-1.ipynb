{
 "cells": [
  {
   "cell_type": "code",
   "execution_count": null,
   "metadata": {},
   "outputs": [
    {
     "data": {
      "text/plain": [
       "['^FTSE', '^STOXX50E', '^N225', '^HSI']"
      ]
     },
     "execution_count": 15,
     "metadata": {},
     "output_type": "execute_result"
    }
   ],
   "source": [
    "import yfinance as yf\n",
    "\n",
    "# List of all tickers provided in different categories\n",
    "tickers = [\n",
    "    ]\n",
    "\n",
    "\n",
    "\n",
    "# Dictionary to store results\n",
    "options_availability = {}\n",
    "\n",
    "for ticker in tickers:\n",
    "    try:\n",
    "        asset = yf.Ticker(ticker)\n",
    "        options = asset.options  # Fetch options data\n",
    "        options_availability[ticker] = bool(\n",
    "            options\n",
    "        )  # True if options data is available\n",
    "    except Exception as e:\n",
    "        options_availability[ticker] = False\n",
    "\n",
    "# Filter out tickers that do not have options data available\n",
    "missing_options_tickers = [\n",
    "    ticker for ticker, available in options_availability.items() if not available\n",
    "]\n",
    "\n",
    "missing_options_tickers\n",
    "\n",
    "\n"
   ]
  },
  {
   "cell_type": "code",
   "execution_count": null,
   "metadata": {},
   "outputs": [],
   "source": [
    "\n",
    "['HO', 'RB', 'BRN']\n"
   ]
  }
 ],
 "metadata": {
  "kernelspec": {
   "display_name": "Python 3",
   "language": "python",
   "name": "python3"
  },
  "language_info": {
   "codemirror_mode": {
    "name": "ipython",
    "version": 3
   },
   "file_extension": ".py",
   "mimetype": "text/x-python",
   "name": "python",
   "nbconvert_exporter": "python",
   "pygments_lexer": "ipython3",
   "version": "3.12.4"
  }
 },
 "nbformat": 4,
 "nbformat_minor": 2
}
